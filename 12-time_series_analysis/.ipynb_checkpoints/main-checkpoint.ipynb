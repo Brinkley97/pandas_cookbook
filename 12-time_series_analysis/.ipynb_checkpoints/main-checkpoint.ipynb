{
 "cells": [
  {
   "cell_type": "markdown",
   "id": "d6ad0b15-a63c-4c87-a19a-31132f39a8ce",
   "metadata": {},
   "source": [
    "# CH 12 Time Series Analysis\n",
    "- pandas includes functionality to manipulate dates, aggregate over different time periods, sample different periods of time, and more\n",
    "\n",
    "---\n",
    "## Python vs pandas date tools\n",
    "1. Py\n",
    "    - module is datetime \n",
    "    - datatypes are date, time, and datetime\n",
    "        - **date** being a moment in time - yr, month, and day (eg : June 21, 2022)\n",
    "        - **time** being in hrs, mins, secs, and microsecs (one-millionth of a second) and is unattached to any date (eg : 12 hrs and 30 mins)\n",
    "        - **datetime** being both **date** and **time**\n",
    "2. pandas\n",
    "    - Single object is Timestamp which goes to nanosecs (one-billionth of a second) and derived from NumPy's datetime64 data type\n",
    "\n",
    "3. Both\n",
    "    - Have a timedelta object that's useful for date addition and subtraction\n",
    " \n",
    "---"
   ]
  },
  {
   "cell_type": "markdown",
   "id": "f88b92b4-46fc-42c3-8423-a3aa91c9ea83",
   "metadata": {
    "tags": []
   },
   "source": [
    "---\n",
    "# How to do it...\n",
    "\n",
    "---\n",
    "## <center> 1. Exploring Py's datetime module</center>\n",
    "\n",
    "- SYNTAX : module.datatype(parameters)"
   ]
  },
  {
   "cell_type": "code",
   "execution_count": 1,
   "id": "3dcc522b-3393-4d98-81d4-0dd92761e56a",
   "metadata": {},
   "outputs": [],
   "source": [
    "import pandas as pd\n",
    "import numpy as np\n",
    "import datetime"
   ]
  },
  {
   "cell_type": "code",
   "execution_count": 2,
   "id": "7d70aa9d-e5ed-4013-b42f-0165ba5862f8",
   "metadata": {},
   "outputs": [
    {
     "data": {
      "text/plain": [
       "datetime.date(2013, 6, 7)"
      ]
     },
     "execution_count": 2,
     "metadata": {},
     "output_type": "execute_result"
    }
   ],
   "source": [
    "date = datetime.date(year=2013, month=6, day=7)\n",
    "date"
   ]
  },
  {
   "cell_type": "code",
   "execution_count": 3,
   "id": "1555994c-1177-41aa-b2e9-829665a6311f",
   "metadata": {},
   "outputs": [
    {
     "data": {
      "text/plain": [
       "datetime.time(12, 30, 19, 463198)"
      ]
     },
     "execution_count": 3,
     "metadata": {},
     "output_type": "execute_result"
    }
   ],
   "source": [
    "time = datetime.time(hour=12, minute=30, second=19, microsecond=463198)\n",
    "time"
   ]
  },
  {
   "cell_type": "code",
   "execution_count": 4,
   "id": "d346318b-fec7-4f3e-bcd5-f08ee27d6ecd",
   "metadata": {},
   "outputs": [
    {
     "data": {
      "text/plain": [
       "datetime.datetime(2013, 6, 7, 12, 30, 19, 463198)"
      ]
     },
     "execution_count": 4,
     "metadata": {},
     "output_type": "execute_result"
    }
   ],
   "source": [
    "dt = datetime.datetime(year=2013, month=6, day=7, hour=12, minute=30, second=19, microsecond=463198)\n",
    "dt"
   ]
  },
  {
   "cell_type": "code",
   "execution_count": 18,
   "id": "1adbc26b-2a83-459a-b69c-c3e4ad92894b",
   "metadata": {},
   "outputs": [
    {
     "data": {
      "text/plain": [
       "datetime.timedelta(days=19, seconds=37206, microseconds=829008)"
      ]
     },
     "execution_count": 18,
     "metadata": {},
     "output_type": "execute_result"
    }
   ],
   "source": [
    "td = datetime.timedelta(weeks=2, days=5, hours=10, minutes=20, seconds=6.73, milliseconds=99, microseconds=8)\n",
    "td"
   ]
  },
  {
   "cell_type": "markdown",
   "id": "fe8819d1-dcd4-4353-9203-3a72aaf85dc2",
   "metadata": {},
   "source": [
    "### How to properly format datetime module"
   ]
  },
  {
   "cell_type": "code",
   "execution_count": 19,
   "id": "8edf06be-23b5-408b-afc1-f8badaacb711",
   "metadata": {},
   "outputs": [
    {
     "name": "stdout",
     "output_type": "stream",
     "text": [
      "date is 2013-06-07\n"
     ]
    }
   ],
   "source": [
    "print(f\"date is {date}\")"
   ]
  },
  {
   "cell_type": "code",
   "execution_count": 20,
   "id": "3048abf3-1511-4a71-8b08-30d1b03c9071",
   "metadata": {},
   "outputs": [
    {
     "name": "stdout",
     "output_type": "stream",
     "text": [
      "time is 12:30:19.463198\n"
     ]
    }
   ],
   "source": [
    "print(f\"time is {time}\")"
   ]
  },
  {
   "cell_type": "code",
   "execution_count": 21,
   "id": "16e93d8f-844a-41a4-a51a-54f396c527be",
   "metadata": {},
   "outputs": [
    {
     "name": "stdout",
     "output_type": "stream",
     "text": [
      "dt is 2013-06-07 12:30:19.463198\n"
     ]
    }
   ],
   "source": [
    "print(f\"dt is {dt}\")"
   ]
  },
  {
   "cell_type": "code",
   "execution_count": 25,
   "id": "aa578702-78ad-486f-bd7b-04569d32ef0f",
   "metadata": {},
   "outputs": [
    {
     "name": "stdout",
     "output_type": "stream",
     "text": [
      "new date is 2013-06-26\n"
     ]
    }
   ],
   "source": [
    "# timedelta can handle (+) and (-)\n",
    "print(f'new date is {date + td}')"
   ]
  },
  {
   "cell_type": "code",
   "execution_count": 26,
   "id": "da931419-5ea6-4754-94c6-39ea9fec811e",
   "metadata": {},
   "outputs": [
    {
     "name": "stdout",
     "output_type": "stream",
     "text": [
      "new datetime is 2013-06-26 22:50:26.292206\n"
     ]
    }
   ],
   "source": [
    "print(f'new datetime is {dt + td}')"
   ]
  },
  {
   "cell_type": "code",
   "execution_count": 27,
   "id": "41b2d6e1-9c97-4728-8bb4-ee14157ef1fc",
   "metadata": {},
   "outputs": [
    {
     "ename": "TypeError",
     "evalue": "unsupported operand type(s) for +: 'datetime.time' and 'datetime.timedelta'",
     "output_type": "error",
     "traceback": [
      "\u001b[0;31m---------------------------------------------------------------------------\u001b[0m",
      "\u001b[0;31mTypeError\u001b[0m                                 Traceback (most recent call last)",
      "\u001b[0;32m<ipython-input-27-1c1b821f3f9d>\u001b[0m in \u001b[0;36m<module>\u001b[0;34m\u001b[0m\n\u001b[1;32m      1\u001b[0m \u001b[0;31m# timedelta to a time object is NOT possible\u001b[0m\u001b[0;34m\u001b[0m\u001b[0;34m\u001b[0m\u001b[0;34m\u001b[0m\u001b[0m\n\u001b[0;32m----> 2\u001b[0;31m \u001b[0mtime\u001b[0m \u001b[0;34m+\u001b[0m \u001b[0mtd\u001b[0m\u001b[0;34m\u001b[0m\u001b[0;34m\u001b[0m\u001b[0m\n\u001b[0m",
      "\u001b[0;31mTypeError\u001b[0m: unsupported operand type(s) for +: 'datetime.time' and 'datetime.timedelta'"
     ]
    }
   ],
   "source": [
    "# timedelta to a time object is NOT possible\n",
    "time + td"
   ]
  },
  {
   "cell_type": "markdown",
   "id": "965e55b0-b4e5-457b-b3b5-d7d01f187416",
   "metadata": {},
   "source": [
    "## <center>2. pandas Timestamp object</center>\n",
    "\n",
    "- SYNTAX : library.object(parameters)"
   ]
  },
  {
   "cell_type": "code",
   "execution_count": 32,
   "id": "095512aa-d1dc-4cfb-a2d0-3b014a066ef0",
   "metadata": {},
   "outputs": [
    {
     "data": {
      "text/plain": [
       "Timestamp('2012-12-21 05:10:08.000099')"
      ]
     },
     "execution_count": 32,
     "metadata": {},
     "output_type": "execute_result"
    }
   ],
   "source": [
    "# How to create my own Timestamp object\n",
    "pd.Timestamp(year=2012, month=12, day=21, hour=5, minute=10, second=8, microsecond=99)"
   ]
  },
  {
   "cell_type": "code",
   "execution_count": 33,
   "id": "fa6d13b7-7278-4312-869e-55c1c90b7bbe",
   "metadata": {},
   "outputs": [
    {
     "data": {
      "text/plain": [
       "Timestamp('2016-01-10 00:00:00')"
      ]
     },
     "execution_count": 33,
     "metadata": {},
     "output_type": "execute_result"
    }
   ],
   "source": [
    "# Another way to create a Timestamp object\n",
    "pd.Timestamp('2016/1/10')"
   ]
  },
  {
   "cell_type": "code",
   "execution_count": 38,
   "id": "3fdf2440-69c0-488a-b3fd-25d31bd0621b",
   "metadata": {},
   "outputs": [
    {
     "data": {
      "text/plain": [
       "Timestamp('2014-05-10 00:00:00')"
      ]
     },
     "execution_count": 38,
     "metadata": {},
     "output_type": "execute_result"
    }
   ],
   "source": [
    "# Another way to create a Timestamp object\n",
    "pd.Timestamp('2014-5/10')"
   ]
  },
  {
   "cell_type": "code",
   "execution_count": 39,
   "id": "667f4605-51f5-4716-954a-0b8462ea8383",
   "metadata": {},
   "outputs": [
    {
     "data": {
      "text/plain": [
       "Timestamp('2019-01-03 20:45:56')"
      ]
     },
     "execution_count": 39,
     "metadata": {},
     "output_type": "execute_result"
    }
   ],
   "source": [
    "# Another way to create a Timestamp object\n",
    "pd.Timestamp('Jan 3, 2019 20:45:56')"
   ]
  },
  {
   "cell_type": "code",
   "execution_count": 44,
   "id": "2ac4e763-26fd-40c7-abd5-3fd0f2cd1be7",
   "metadata": {},
   "outputs": [
    {
     "data": {
      "text/plain": [
       "Timestamp('2016-01-05 05:34:43.123456789')"
      ]
     },
     "execution_count": 44,
     "metadata": {},
     "output_type": "execute_result"
    }
   ],
   "source": [
    "# Another way to create a Timestamp object\n",
    "# They have \"T\"... why?\n",
    "pd.Timestamp('2016-01-05T05:34:43.123456789')"
   ]
  },
  {
   "cell_type": "code",
   "execution_count": 43,
   "id": "24baf25e-cf4e-44a4-a88e-3784c49b6e29",
   "metadata": {},
   "outputs": [
    {
     "data": {
      "text/plain": [
       "Timestamp('2016-01-05 05:34:43.123456789')"
      ]
     },
     "execution_count": 43,
     "metadata": {},
     "output_type": "execute_result"
    }
   ],
   "source": [
    "# Another way to create a Timestamp object\n",
    "pd.Timestamp('2016-01-05 05:34:43.123456789')"
   ]
  },
  {
   "cell_type": "code",
   "execution_count": 51,
   "id": "068ea72b-18ad-4b5e-b50d-ab416517a94f",
   "metadata": {},
   "outputs": [
    {
     "data": {
      "text/plain": [
       "Timestamp('1985-11-05 00:53:20')"
      ]
     },
     "execution_count": 51,
     "metadata": {},
     "output_type": "execute_result"
    }
   ],
   "source": [
    "# Can pass in a single integer or float to Timestamp constructor\n",
    "# returns a date equivalent to the # of nanoseconds after the Unix epoch (Jan 1, 1970)\n",
    "pd.Timestamp(500000000000000000)"
   ]
  },
  {
   "cell_type": "code",
   "execution_count": 52,
   "id": "2c9346ba-74e9-4687-ab90-612d6c19f5c8",
   "metadata": {},
   "outputs": [
    {
     "data": {
      "text/plain": [
       "Timestamp('1970-01-01 00:00:00.000000002')"
      ]
     },
     "execution_count": 52,
     "metadata": {},
     "output_type": "execute_result"
    }
   ],
   "source": [
    "# Another ex when passing in an int\n",
    "pd.Timestamp(2)"
   ]
  },
  {
   "cell_type": "code",
   "execution_count": 54,
   "id": "59600b0e-f5ea-4923-b429-58970cc346e9",
   "metadata": {},
   "outputs": [
    {
     "data": {
      "text/plain": [
       "Timestamp('1983-09-10 00:00:00')"
      ]
     },
     "execution_count": 54,
     "metadata": {},
     "output_type": "execute_result"
    }
   ],
   "source": [
    "# Another ex when passing in an int\n",
    "# specify the unit so ‘D’, ‘h’, ‘m’, ‘s’, ‘ms’, ‘us’, and ‘ns’\n",
    "pd.Timestamp(5000, unit='D')"
   ]
  },
  {
   "cell_type": "markdown",
   "id": "081d04ef-8751-4f25-8d69-95dd7971e451",
   "metadata": {},
   "source": [
    "### to_datetime pandas function\n",
    "\n",
    "- Works similarly to the Timestamp constructor\n",
    "- Comes with different parameters\n",
    "- WHY/PURPOSE : For converting string columns in DataFrames to dates \n",
    "- SYNTAX : library.function(parameters)"
   ]
  },
  {
   "cell_type": "code",
   "execution_count": 55,
   "id": "a4b2796b-90c6-4880-bfee-2d44ad478590",
   "metadata": {},
   "outputs": [
    {
     "data": {
      "text/plain": [
       "Timestamp('2015-05-13 00:00:00')"
      ]
     },
     "execution_count": 55,
     "metadata": {},
     "output_type": "execute_result"
    }
   ],
   "source": [
    "pd.to_datetime('2015-5-13')"
   ]
  },
  {
   "cell_type": "code",
   "execution_count": 56,
   "id": "93964258-5207-4ace-b93d-9261a11ed547",
   "metadata": {},
   "outputs": [
    {
     "data": {
      "text/plain": [
       "Timestamp('2015-05-13 00:00:00')"
      ]
     },
     "execution_count": 56,
     "metadata": {},
     "output_type": "execute_result"
    }
   ],
   "source": [
    "# Set a parse order of two diff params - (1) dayfirst and (2) yearfirst\n",
    "# both are bool\n",
    "pd.to_datetime('2015-13-5', dayfirst=True)"
   ]
  },
  {
   "cell_type": "code",
   "execution_count": 59,
   "id": "8524412a-db62-4778-85cc-188ceff376ae",
   "metadata": {},
   "outputs": [
    {
     "data": {
      "text/plain": [
       "Timestamp('2010-11-12 00:00:00')"
      ]
     },
     "execution_count": 59,
     "metadata": {},
     "output_type": "execute_result"
    }
   ],
   "source": [
    "pd.to_datetime('10/11/12', yearfirst=True)"
   ]
  },
  {
   "cell_type": "code",
   "execution_count": 62,
   "id": "df35189c-564f-4017-a7a8-63a3670e59d3",
   "metadata": {},
   "outputs": [
    {
     "data": {
      "text/plain": [
       "Timestamp('2015-05-13 00:00:00')"
      ]
     },
     "execution_count": 62,
     "metadata": {},
     "output_type": "execute_result"
    }
   ],
   "source": [
    "# If both are used, then yearfirst is preceded\n",
    "pd.to_datetime('2015-13-5', dayfirst=True, yearfirst=True)"
   ]
  },
  {
   "cell_type": "code",
   "execution_count": 63,
   "id": "e3e46de0-10a5-4e9d-a4d9-134f3f34e341",
   "metadata": {},
   "outputs": [
    {
     "data": {
      "text/plain": [
       "Timestamp('2010-12-11 00:00:00')"
      ]
     },
     "execution_count": 63,
     "metadata": {},
     "output_type": "execute_result"
    }
   ],
   "source": [
    "# If both are used, then yearfirst is preceded\n",
    "pd.to_datetime('10/11/12', dayfirst=True, yearfirst=True)"
   ]
  },
  {
   "cell_type": "code",
   "execution_count": 71,
   "id": "c72ae426-0c11-4f15-8e81-f01f2c03b4cc",
   "metadata": {},
   "outputs": [
    {
     "data": {
      "text/plain": [
       "Timestamp('2017-09-30 13:30:00')"
      ]
     },
     "execution_count": 71,
     "metadata": {},
     "output_type": "execute_result"
    }
   ],
   "source": [
    "pd.to_datetime('Start Date: Sep 30, 2017 Start Time: 130 PM', format='Start Date: %b %d, %Y Start Time: %I%M %p')"
   ]
  },
  {
   "cell_type": "code",
   "execution_count": 73,
   "id": "b07b96e0-a030-40b8-9e41-4134be2d801e",
   "metadata": {},
   "outputs": [
    {
     "data": {
      "text/plain": [
       "Timestamp('2013-01-02 00:00:00')"
      ]
     },
     "execution_count": 73,
     "metadata": {},
     "output_type": "execute_result"
    }
   ],
   "source": [
    "# Get x days from origin\n",
    "pd.to_datetime(1, unit='D', origin='2013-1-1')"
   ]
  },
  {
   "cell_type": "code",
   "execution_count": 74,
   "id": "44a65b08-56d2-4621-8867-83cf2d9ec5aa",
   "metadata": {},
   "outputs": [
    {
     "data": {
      "text/plain": [
       "Timestamp('2014-01-01 00:00:00')"
      ]
     },
     "execution_count": 74,
     "metadata": {},
     "output_type": "execute_result"
    }
   ],
   "source": [
    "# Get x days from origin\n",
    "pd.to_datetime(365, unit='D', origin='2013-1-1')"
   ]
  },
  {
   "cell_type": "code",
   "execution_count": null,
   "id": "ee6ae7ac-062d-4596-bd84-8ef6e6e3a98d",
   "metadata": {},
   "outputs": [],
   "source": []
  }
 ],
 "metadata": {
  "kernelspec": {
   "display_name": "Python 3",
   "language": "python",
   "name": "python3"
  },
  "language_info": {
   "codemirror_mode": {
    "name": "ipython",
    "version": 3
   },
   "file_extension": ".py",
   "mimetype": "text/x-python",
   "name": "python",
   "nbconvert_exporter": "python",
   "pygments_lexer": "ipython3",
   "version": "3.7.5"
  }
 },
 "nbformat": 4,
 "nbformat_minor": 5
}
